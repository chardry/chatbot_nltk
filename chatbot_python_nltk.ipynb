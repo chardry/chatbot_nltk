{
  "cells": [
    {
      "cell_type": "code",
      "execution_count": null,
      "metadata": {
        "id": "zaSpg0qYieb3",
        "colab": {
          "base_uri": "https://localhost:8080/"
        },
        "outputId": "d8dece46-1ee6-40b1-aca1-1dff48bce6ca"
      },
      "outputs": [
        {
          "output_type": "stream",
          "name": "stderr",
          "text": [
            "[nltk_data] Downloading package punkt to /root/nltk_data...\n",
            "[nltk_data]   Package punkt is already up-to-date!\n",
            "[nltk_data] Downloading package stopwords to /root/nltk_data...\n",
            "[nltk_data]   Package stopwords is already up-to-date!\n"
          ]
        },
        {
          "output_type": "stream",
          "name": "stdout",
          "text": [
            "Drive already mounted at /content/drive; to attempt to forcibly remount, call drive.mount(\"/content/drive\", force_remount=True).\n"
          ]
        }
      ],
      "source": [
        "import nltk\n",
        "nltk.download('punkt')\n",
        "nltk.download('stopwords')\n",
        "import numpy as np\n",
        "import random\n",
        "import string\n",
        "import warnings\n",
        "warnings.filterwarnings('ignore')\n",
        "from google.colab import drive\n",
        "drive.mount('/content/drive')\n",
        "from nltk.corpus import stopwords\n",
        "from sklearn.feature_extraction.text import TfidfVectorizer\n",
        "from sklearn.metrics.pairwise import cosine_similarity\n",
        "from nltk import RegexpTokenizer"
      ]
    },
    {
      "cell_type": "code",
      "execution_count": null,
      "metadata": {
        "id": "vhGPHhESieb7"
      },
      "outputs": [],
      "source": [
        "f= open('/content/drive/MyDrive/lions.txt','r',errors='ignore')\n",
        "lignes = f.read()\n",
        "lignes = lignes.lower()\n",
        "tokens_phrase = nltk.sent_tokenize(lignes)\n",
        "tokens_mots = nltk.word_tokenize(lignes)"
      ]
    },
    {
      "cell_type": "code",
      "source": [
        "print(tokens_phrase[:2])\n",
        "\n",
        "#print(tokens_mots[:2])"
      ],
      "metadata": {
        "colab": {
          "base_uri": "https://localhost:8080/"
        },
        "id": "3aGSKGfjoPR9",
        "outputId": "c892c6f2-c14e-40a4-903b-82e016b19030"
      },
      "execution_count": null,
      "outputs": [
        {
          "output_type": "stream",
          "name": "stdout",
          "text": [
            "['le lion est une espce de mammifres carnivores de la famille des flids.', 'la femelle du lion est la lionne, son petit est le lionceau.']\n"
          ]
        }
      ]
    },
    {
      "cell_type": "code",
      "execution_count": null,
      "metadata": {
        "id": "EFCJXTIbieb9"
      },
      "outputs": [],
      "source": [
        "tokenizer = RegexpTokenizer(r'\\w+')\n",
        "\n",
        "def tokenisation(text):\n",
        "    tokens1=[]\n",
        "    tokens1+=tokenizer.tokenize(text.lower())\n",
        "    return tokens1"
      ]
    },
    {
      "cell_type": "code",
      "execution_count": null,
      "metadata": {
        "id": "ySAJY-5Eieb_"
      },
      "outputs": [],
      "source": [
        "salutations = (\"salut\",\"bonjour\",\"hello\",\"bonjour, comment ça va ?\")\n",
        "rep_salutations = (\"Salut\",\"Bonjour\",\"Hello\",\"Bonjour, ça me fait plaisir de répondre à vos questions\")\n",
        "\n",
        "def saluer(phrase):\n",
        "    for word in phrase.split():\n",
        "        if word.lower() in salutations:\n",
        "            return random.choice(rep_salutations)"
      ]
    },
    {
      "cell_type": "code",
      "execution_count": null,
      "metadata": {
        "id": "4h54tVSxiecA"
      },
      "outputs": [],
      "source": [
        "mots = stopwords.words('french')"
      ]
    },
    {
      "cell_type": "code",
      "execution_count": null,
      "metadata": {
        "id": "SoTwfmuUiecC"
      },
      "outputs": [],
      "source": [
        "def repondre(utilisateur):\n",
        "    chatbot_rep =''\n",
        "    tokens_phrase.append(utilisateur)\n",
        "    TfidfVec = TfidfVectorizer(tokenizer = tokenisation, stop_words=mots) #english\n",
        "    tfidf = TfidfVec.fit_transform(tokens_phrase)\n",
        "    vals = cosine_similarity(tfidf[-1],tfidf)\n",
        "    idx = vals.argsort()[0][-2]\n",
        "    flat = vals.flatten()\n",
        "    flat.sort()\n",
        "    req_tfidf =flat[-2]\n",
        "    if (req_tfidf==0):\n",
        "        chatbot_rep = chatbot_rep+\"Je ne comprend pas. Pouvez vous reformulez votre question ?\"\n",
        "        return chatbot_rep\n",
        "    else:\n",
        "        chatbot_rep = chatbot_rep+tokens_phrase[idx]\n",
        "        return chatbot_rep"
      ]
    },
    {
      "cell_type": "code",
      "execution_count": null,
      "metadata": {
        "id": "gbth6nvDiecD",
        "outputId": "76157504-1711-454e-cb3d-e2fd665b1014",
        "colab": {
          "base_uri": "https://localhost:8080/"
        }
      },
      "outputs": [
        {
          "output_type": "stream",
          "name": "stdout",
          "text": [
            "MOUPA: Mon nom est MOUPA. Ma mission est de répondre à vos questions concernant les lions. Si vous n'avez pas de question tapez alors << au revoir >>\n",
            "au revoir\n",
            "MOUPA: Au revoir et n'oubliez pas que le Lion est le roi de la jungle\n"
          ]
        }
      ],
      "source": [
        "flag = True\n",
        "print(\"BOT: Mon nom est ASSISTANT. Ma mission est de répondre à vos questions concernant les lions.\"\n",
        "      \" Si vous n'avez pas de question tapez alors << au revoir >>\")\n",
        "while(flag==True):\n",
        "    utilisateur = input()\n",
        "    utilisateur = utilisateur.lower()\n",
        "    if(utilisateur != 'au revoir'):\n",
        "        if(utilisateur == 'merci'):\n",
        "            print(\"BOT: Bienvenue, ma mission est de donner des réponses à vos questions\")\n",
        "        else:\n",
        "            if(saluer(utilisateur)!=None):\n",
        "                rep = \"BOT: \"+saluer(utilisateur)\n",
        "                print(rep)\n",
        "            else:\n",
        "                print(\"BOT: \",end=\"\")\n",
        "                print(repondre(utilisateur))\n",
        "                tokens_phrase.remove(utilisateur)\n",
        "    else:\n",
        "        flag = False\n",
        "        print(\"BOT: Au revoir et n'oubliez pas que le Lion est le roi de la jungle\")"
      ]
    },
    {
      "cell_type": "code",
      "execution_count": null,
      "metadata": {
        "id": "O7_WF3aJiecG"
      },
      "outputs": [],
      "source": []
    }
  ],
  "metadata": {
    "kernelspec": {
      "display_name": "Python 3",
      "language": "python",
      "name": "python3"
    },
    "language_info": {
      "codemirror_mode": {
        "name": "ipython",
        "version": 3
      },
      "file_extension": ".py",
      "mimetype": "text/x-python",
      "name": "python",
      "nbconvert_exporter": "python",
      "pygments_lexer": "ipython3",
      "version": "3.7.3"
    },
    "colab": {
      "provenance": []
    }
  },
  "nbformat": 4,
  "nbformat_minor": 0
}